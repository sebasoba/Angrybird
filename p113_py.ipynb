{
  "nbformat": 4,
  "nbformat_minor": 0,
  "metadata": {
    "colab": {
      "name": "p113.py",
      "provenance": [],
      "authorship_tag": "ABX9TyNXIei/CwfdMDOxHMEmnWpF",
      "include_colab_link": true
    },
    "kernelspec": {
      "name": "python3",
      "display_name": "Python 3"
    },
    "language_info": {
      "name": "python"
    }
  },
  "cells": [
    {
      "cell_type": "markdown",
      "metadata": {
        "id": "view-in-github",
        "colab_type": "text"
      },
      "source": [
        "<a href=\"https://colab.research.google.com/github/sebasoba/Angrybird/blob/master/p113_py.ipynb\" target=\"_parent\"><img src=\"https://colab.research.google.com/assets/colab-badge.svg\" alt=\"Open In Colab\"/></a>"
      ]
    },
    {
      "cell_type": "code",
      "metadata": {
        "id": "QIOtLlHfu9e6"
      },
      "source": [
        "import pandas as pd\n",
        "import statistics\n",
        "import plotly.express as px\n",
        "\n",
        "q1 = df[\"quant_saved\"].quantile(0.25)\n",
        "q3 = df[\"quant_saved\"].quantile(0.75)\n",
        "iqr = q3-q1\n",
        "\n",
        "print(f\"01 - {q1}\")\n",
        "print(f\"03 - {q3}\")\n",
        "print(f\"IQR - {iqr}\")\n",
        "\n",
        "lower_whisker = q1 - 1.5*iqr\n",
        "upper_whisker = q3 + 1.5*iqr\n",
        "\n",
        "print(f\"Lower Whisker - {lower_whisker}\")\n",
        "print(f\"Upper Whisker - {upper_whisker}\")\n",
        "\n",
        "new_df = df[df[\"quant_saved\"] < upper_whisker]"
      ],
      "execution_count": null,
      "outputs": []
    },
    {
      "cell_type": "code",
      "metadata": {
        "id": "Zxmo-hQ2v5QX"
      },
      "source": [
        "first_std_deviation_start=mean_sampling_not_reminded-stdev_sampling_not_reminded\n",
        "first_std_deviation_end=mean_sampling_not_reminded-stdev_sampling_not_reminded\n",
        "print(f\"First (start) - {first_std_deviation_start} and First (end) - {first_std_deviation_end}\")\n",
        "\n",
        "second_std_deviation_start=mean_sampling_not_reminded-stdev_sampling_not_reminded\n",
        "first_std_deviation_end=mean_sampling_not_reminded-stdev_sampling_not_reminded\n",
        "print(f\"Second (start) - {second_std_deviation_start} and Second (end) - {second_std_deviation_end}\")\n",
        "\n",
        "third_std_deviation_start=mean_sampling_not_reminded-stdev_sampling_not_reminded\n",
        "third_std_deviation_end=mean_sampling_not_reminded-stdev_sampling_not_reminded\n",
        "print(f\"Third (start) - {third_std_deviation_start} and Third (end) - {third_std_deviation_end}\")\n"
      ],
      "execution_count": null,
      "outputs": []
    }
  ]
}